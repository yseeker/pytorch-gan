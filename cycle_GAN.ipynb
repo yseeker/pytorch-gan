{
  "nbformat": 4,
  "nbformat_minor": 0,
  "metadata": {
    "colab": {
      "name": "cycle_GAN.ipynb",
      "provenance": [],
      "authorship_tag": "ABX9TyOC4jjd2nWZ0xy774noZmLP",
      "include_colab_link": true
    },
    "kernelspec": {
      "name": "python3",
      "display_name": "Python 3"
    },
    "language_info": {
      "name": "python"
    }
  },
  "cells": [
    {
      "cell_type": "markdown",
      "metadata": {
        "id": "view-in-github",
        "colab_type": "text"
      },
      "source": [
        "<a href=\"https://colab.research.google.com/github/yseeker/pytorch-gan/blob/main/cycle_GAN.ipynb\" target=\"_parent\"><img src=\"https://colab.research.google.com/assets/colab-badge.svg\" alt=\"Open In Colab\"/></a>"
      ]
    },
    {
      "cell_type": "code",
      "metadata": {
        "id": "wjHmAVtwEif2"
      },
      "source": [
        "import itertools\n",
        "import numpy as np\n",
        "import matplotlib.pyplot as plt\n",
        "import argparse\n",
        "import glob\n",
        "import os\n",
        "\n",
        "import torch\n",
        "import tqdm\n",
        "from PIL import Image\n",
        "\n",
        "import torch\n",
        "import torch.nn as nn\n",
        "import torch.nn.functional as F\n",
        "import torch.optim as optim\n",
        "import torchvision.datasets as dset\n",
        "from torch.utils.data import DataLoader\n",
        "import torchvision.utils as vutils\n",
        "import torchvision.transforms as transforms"
      ],
      "execution_count": 1,
      "outputs": []
    },
    {
      "cell_type": "code",
      "metadata": {
        "id": "uu2A7C-2fYUr"
      },
      "source": [
        "class CFG:\n",
        "    n_epoch = 200\n",
        "    batch_size = 1\n",
        "    lr = 2e-4\n",
        "    decay_start = 100\n",
        "    weight_identity = 5.0\n",
        "    weight_cycle = 10.0\n",
        "    beta1 = 0.5\n",
        "    image_size = 256"
      ],
      "execution_count": 2,
      "outputs": []
    },
    {
      "cell_type": "code",
      "metadata": {
        "id": "xM0Zlmlpfwuh"
      },
      "source": [
        "from torch.utils.data import Dataset\n",
        "from PIL import Image\n",
        "\n",
        "class ImageDataset(Dataset):\n",
        "    def __init__(selftransform = None):\n",
        "        super().__init__()\n",
        "        self.files_A = glob.glob('./drive/MyDrive/data/horse2zebra/trainA/*.jpg')\n",
        "        self.files_B = glob.glob('./drive/MyDrive/data/horse2zebra/trainB/*.jpg')\n",
        "        self.transform = transform\n",
        "\n",
        "    def __getitem__(self, index):\n",
        "        imgA = self.transform(self.files_A[index % len(self.files_A)])\n",
        "        while True:\n",
        "            random_index = np.random/randint(0, len(self.files_B)-1)\n",
        "            imgB = self.transform(Image.open(self.file_B[random_index % len(self.file_B)]))\n",
        "            if C == 3:\n",
        "                break\n",
        "        return {'A' : imgA, 'B' : imgB}\n",
        "        \n",
        "    def __len__(self):\n",
        "        return max(len(self.files_A), len(self.files_B))"
      ],
      "execution_count": 3,
      "outputs": []
    },
    {
      "cell_type": "code",
      "metadata": {
        "id": "tW4U3wy5hfg5"
      },
      "source": [
        "class DecayLR(object):\n",
        "    def __init__(sself, n_epochs, offset, decay_start_epoch):\n",
        "        self.n_epochs = n_epochs\n",
        "        self.offset = offset\n",
        "        self.decay_start_epoch = decay_start_epoch\n",
        "    \n",
        "    def step(self, epoch):\n",
        "        return 1.0- max(0, epoch + self.offset - self.decay_start_epoch) / (self.n_epochs - self.decay_start_epoch)\n",
        "\n",
        "class ReplayBuffer(object):\n",
        "    def __init__(self, max_size = 50):\n",
        "        self.max_size = max_size\n",
        "        self.data = []\n",
        "\n",
        "    def push_and_pop(self, data):\n",
        "        to_return = []\n",
        "        for element in data.data:\n",
        "            element = torch.unsqueeze(element, 0)\n",
        "            if len(self.data) < self.max_size():\n",
        "                self.data.append(element)\n",
        "                to_return.append(element)\n",
        "            else:\n",
        "                if np.random.rand() > 0.5:\n",
        "                    i = np.random.randint(0, self.max_size -1)\n",
        "                    to_retuna.append(self.data[i].clone())\n",
        "                    self.data[i] = element\n",
        "                else:\n",
        "                    to_return.append(element)\n",
        "        return torch.cat(to_return)"
      ],
      "execution_count": null,
      "outputs": []
    },
    {
      "cell_type": "code",
      "metadata": {
        "id": "daTVhTvMkT0D"
      },
      "source": [
        "class ResidualBlock(nn.Module):\n",
        "    def __init__(self, in_channels):\n",
        "        super().__init__()\n",
        "        self.conv_layers = nn.Sequential(\n",
        "            nn.ReflectionPad2d(1),\n",
        "            nn.Conv2d(in_channels, in_channels, 3),\n",
        "            nn.InstanceNorm2d(in_channels),\n",
        "            nn.ReLU(inplace = True),\n",
        "            nn.ReflectionPad2d(1),\n",
        "            nn.Conv2d(in_channels, in_channels, 3),\n",
        "            nn.InstanceNorm2d(in_channels),\n",
        "            nn.ReLU(inplace = True),\n",
        "        )\n",
        "\n",
        "    def forward(self, x):\n",
        "        out = self.conv_layers(x)\n",
        "        out += x\n",
        "        return out\n",
        "\n",
        "class Generator(nn.Module):\n",
        "    def __init__(self, res_block, in_channels):\n",
        "        super().__init__()\n",
        "        self.encoder = nn.Sequential(\n",
        "            nn.ReflectionPad2d(3),\n",
        "            nn.Conv2d(in_channels, 64, 7)\n",
        "            nn.InstanceNorm2d(64),\n",
        "            nn.ReLU(inplace=True),\n",
        "            nn.Conv2d(64, 128, 3, stride = 2, padding = 1)\n",
        "            nn.InstanceNorm2d(64),\n",
        "            nn.ReLU(inplace=True),\n",
        "            nn.Conv2d(128, 256, 3, stride = 2, padding = 1)\n",
        "            nn.InstanceNorm2d(64),\n",
        "            nn.ReLU(inplace=True),\n",
        "        )\n",
        "\n",
        "        self.res_block = res_block(256)\n",
        "        self.transformer = nn.ModuleList(9*[self.res_block])\n",
        "        self.decoder = nn.Sequential(\n",
        "            nn.ConvTranspose2d(256, 128, 3, stride = 2, padding = 1, output_padding = 1),\n",
        "            nn.InstanceNorm2d(128),\n",
        "            nn.ReLU(inplace = True)\n",
        "            nn.ConvTranspose2d(128, 64, 3, stride = 2, padding = 1, output_padding = 1),\n",
        "            nn.InstanceNorm2d(64),\n",
        "            nn.ReLU(inplace = True)\n",
        "            nn.ReflectionPad2d(3),\n",
        "            nn.Conv2d(63, 3, 7),\n",
        "            nn.Tanh()\n",
        "        )\n",
        "\n",
        "    def forward(self, x):\n",
        "        out = self.encoder(x)\n",
        "        for func in self.transformer:\n",
        "            out = func(out)\n",
        "        out = self.decoder(out)\n",
        "        return out\n",
        "\n",
        "\n",
        "class Discriminator(nn.Module):\n",
        "    def __init__(self):\n",
        "        super().__init__()\n",
        "        self.conv1 = self.conv_layer(3, 64, 4, 2, 1, False)\n",
        "        self.conv2 = self.conv_layer(64, 128, 4, 2, 1, False)\n",
        "        self.conv3 = self.conv_layer(128, 256, 4, 2, 1, False)\n",
        "        self.conv4 = self.conv_layer(256, 512, 4, 1, 1, False)\n",
        "        self.conv5 = nn.Conv2d(512, 1, 4, 1, padding = 1)\n",
        "\n",
        "    @staticmethod\n",
        "    def conv_layer(in_channels, out_channels, kernel_size, stride, padding, has_norm = False):\n",
        "        layers = [nn.Conv2d(in_channels, out_channels, kernel_size, stride, padding)]\n",
        "        if has_norm:\n",
        "            layers.append(nn.InstanceNorm2d(out_channels))\n",
        "        layeres.append(nn.LeakyReLU(0.2, inplace = True))\n",
        "        net = nn.Sequential(*layers)\n",
        "        return net\n",
        "\n",
        "    def forward(self, x):\n",
        "        out = self.conv1(x)\n",
        "        out = self.conv2(out)\n",
        "        out = self.conv3(out)\n",
        "        out = self.conv4(out)\n",
        "        out = self.conv5(out)\n",
        "        B, C, H, W = out.size()\n",
        "        out = F.avg_pool2d(out, (H, W))\n",
        "        out = out.view(B, -1)\n",
        "        return out"
      ],
      "execution_count": null,
      "outputs": []
    },
    {
      "cell_type": "code",
      "metadata": {
        "id": "8LfpYmMgtLzl"
      },
      "source": [
        "def weights_init(m):\n",
        "    classname = m.__class__.__name__\n",
        "    if classname.find('Conv') != -1:\n",
        "        nn.init.normal_(m.weight.data, 0.0, 0.02)\n",
        "    elif classname.find('BatchNorm') != -1:\n",
        "        nn.init.normal_(m.weight.data, 1.0, 0.02)\n",
        "        nn.init.constant_(m.bias.data, 0)"
      ],
      "execution_count": null,
      "outputs": []
    },
    {
      "cell_type": "code",
      "metadata": {
        "id": "Cs6UYs2CtOzE"
      },
      "source": [
        "import torchvision.transforms as transforms\n",
        "tranform = transforms.Compose([\n",
        "    transforms.Resize(int(CFG.image_size * 1.12), Image.BICUBIC),\n",
        "    transforms.RandomCrop(opt.image_size),\n",
        "    transforms.RandomHorizontalFlip(),\n",
        "    transforms.ToTensor(),\n",
        "    transforms.Normalize((0.5,), (0.5, ))\n",
        "])"
      ],
      "execution_count": null,
      "outputs": []
    },
    {
      "cell_type": "code",
      "metadata": {
        "id": "afv0zJD-tVlc"
      },
      "source": [
        "dataset = ImageDataset(transforms = transform)\n",
        "dataloader = DataLoader(dataset = dataset, batch_size = CFG.batch_size, shuffle = True)"
      ],
      "execution_count": null,
      "outputs": []
    },
    {
      "cell_type": "code",
      "metadata": {
        "id": "dqD9_YVetWWc"
      },
      "source": [
        "device = torch.device('cuda' if torch.cuda.is_available() else 'cpu')\n",
        "\n",
        "netG_A2B = Generator(ResidualBlock).to(device)\n",
        "netG_B2A = Generator(ResidualBlock).to(device)\n",
        "netD_A = Discriminator().to(device)\n",
        "netD_B = Discriminator().to(device)\n",
        "\n",
        "netD_A.apply(weights_init)\n",
        "netD_B.apply(weights_init)\n",
        "\n",
        "\n",
        "discriminator = Discrimnator(nc = 1, ndf = CFG.nch_d).to(device)\n",
        "netG_r.apply(weights_init)\n",
        "\n",
        "criterion = nn.BCELoss()\n",
        "optimizer_G = optim.Adam(generator.parameters(), lr = CFG.lr, betas=(CFG.beta1, 0.999), weight_decay = 1e-5)\n",
        "optimizer_D = optim.Adam(discriminator.parameters(), lr = CFG.lr, betas=(CFG.beta1, 0.999), weight_decay = 1e-5)\n",
        "\n",
        "model_name = 'DCGGAN'\n",
        "f_path_result = './drive/MyDrive/result/{}'.format(model_name)\n",
        "f_path_params = './drive/MyDrive/result/{}'.format(model_name)\n",
        "\n",
        "os.makedirs(f_path_result, exist_ok = True)\n",
        "os.makedirs(f_path_params, exist_ok = True)"
      ],
      "execution_count": null,
      "outputs": []
    },
    {
      "cell_type": "code",
      "metadata": {
        "id": "6Uret5ncjsCc"
      },
      "source": [
        "adversarial_loss = torch.nn.MSELoss().to(device)\n",
        "cycle_loss = torch.nn.L1Loss().to(device)\n",
        "identity_loss = torch.nn.L1Loss().to(device)\n",
        "\n",
        "optimizer_D_A = optim.Adam(netD_A.parameters(), lr = CFG.lr, betas=(CFG.beta1, 0.999), weight_decay = 1e-5)\n",
        "optimizer_D_B = optim.Adam(netD_B.parameters(), lr = CFG.lr, betas=(CFG.beta1, 0.999), weight_decay = 1e-5)\n",
        "optimizer_G = optim.Adam(itertools.chain(netG_A2B.parameters(), netG_B2A.parameters()), lr = CFG.lr, betas = (CFG.beta1, 0.999))"
      ],
      "execution_count": null,
      "outputs": []
    },
    {
      "cell_type": "code",
      "metadata": {
        "colab": {
          "base_uri": "https://localhost:8080/",
          "height": 219
        },
        "id": "bQadvCiNjwIj",
        "outputId": "3bd725cc-9272-479f-ce9d-cf35242c0c93"
      },
      "source": [
        "lr_lambda = DecayLR(CFG.n_epochs, 0, CFG.decay_start).step\n",
        "lr_scheduler_G = torch.optim.lr_scheduler.LambdaLR(optimizer_G, lr_lambda=lr_lambda)\n",
        "lr_scheduler_D_A = torch.optim.lr_scheduler.LambdaLR(optimizer_D_A, lr_lambda=lr_lambda)\n",
        "lr_scheduler_D_B = torch.optim.lr_scheduler.LambdaLR(optimizer_D_B, lr_lambda=lr_lambda)\n",
        "\n",
        "import os\n",
        "model_name = 'CycleGAN'\n",
        "f_path_result = './drive/MyDrive/result/{}'.format(model_name)\n",
        "f_path_params = './drive/MyDrive/params/{}'.format(model_name)\n",
        "\n",
        "os.makedirs(f_path_result, exist_ok = True)\n",
        "os.makedirs(f_path_params, exist_ok = True)"
      ],
      "execution_count": 4,
      "outputs": [
        {
          "output_type": "error",
          "ename": "NameError",
          "evalue": "ignored",
          "traceback": [
            "\u001b[0;31m---------------------------------------------------------------------------\u001b[0m",
            "\u001b[0;31mNameError\u001b[0m                                 Traceback (most recent call last)",
            "\u001b[0;32m<ipython-input-4-048044a3edc0>\u001b[0m in \u001b[0;36m<module>\u001b[0;34m()\u001b[0m\n\u001b[0;32m----> 1\u001b[0;31m \u001b[0mlr_lambda\u001b[0m \u001b[0;34m=\u001b[0m \u001b[0mDecayLR\u001b[0m\u001b[0;34m(\u001b[0m\u001b[0mCFG\u001b[0m\u001b[0;34m.\u001b[0m\u001b[0mn_epochs\u001b[0m\u001b[0;34m,\u001b[0m \u001b[0;36m0\u001b[0m\u001b[0;34m,\u001b[0m \u001b[0mCFG\u001b[0m\u001b[0;34m.\u001b[0m\u001b[0mdecay_start\u001b[0m\u001b[0;34m)\u001b[0m\u001b[0;34m.\u001b[0m\u001b[0mstep\u001b[0m\u001b[0;34m\u001b[0m\u001b[0;34m\u001b[0m\u001b[0m\n\u001b[0m\u001b[1;32m      2\u001b[0m \u001b[0mlr_scheduler_G\u001b[0m \u001b[0;34m=\u001b[0m \u001b[0mtorch\u001b[0m\u001b[0;34m.\u001b[0m\u001b[0moptim\u001b[0m\u001b[0;34m.\u001b[0m\u001b[0mlr_scheduler\u001b[0m\u001b[0;34m.\u001b[0m\u001b[0mLambdaLR\u001b[0m\u001b[0;34m(\u001b[0m\u001b[0moptimizer_G\u001b[0m\u001b[0;34m,\u001b[0m \u001b[0mlr_lambda\u001b[0m\u001b[0;34m=\u001b[0m\u001b[0mlr_lambda\u001b[0m\u001b[0;34m)\u001b[0m\u001b[0;34m\u001b[0m\u001b[0;34m\u001b[0m\u001b[0m\n\u001b[1;32m      3\u001b[0m \u001b[0mlr_scheduler_D_A\u001b[0m \u001b[0;34m=\u001b[0m \u001b[0mtorch\u001b[0m\u001b[0;34m.\u001b[0m\u001b[0moptim\u001b[0m\u001b[0;34m.\u001b[0m\u001b[0mlr_scheduler\u001b[0m\u001b[0;34m.\u001b[0m\u001b[0mLambdaLR\u001b[0m\u001b[0;34m(\u001b[0m\u001b[0moptimizer_D_A\u001b[0m\u001b[0;34m,\u001b[0m \u001b[0mlr_lambda\u001b[0m\u001b[0;34m=\u001b[0m\u001b[0mlr_lambda\u001b[0m\u001b[0;34m)\u001b[0m\u001b[0;34m\u001b[0m\u001b[0;34m\u001b[0m\u001b[0m\n\u001b[1;32m      4\u001b[0m \u001b[0mlr_scheduler_D_B\u001b[0m \u001b[0;34m=\u001b[0m \u001b[0mtorch\u001b[0m\u001b[0;34m.\u001b[0m\u001b[0moptim\u001b[0m\u001b[0;34m.\u001b[0m\u001b[0mlr_scheduler\u001b[0m\u001b[0;34m.\u001b[0m\u001b[0mLambdaLR\u001b[0m\u001b[0;34m(\u001b[0m\u001b[0moptimizer_D_B\u001b[0m\u001b[0;34m,\u001b[0m \u001b[0mlr_lambda\u001b[0m\u001b[0;34m=\u001b[0m\u001b[0mlr_lambda\u001b[0m\u001b[0;34m)\u001b[0m\u001b[0;34m\u001b[0m\u001b[0;34m\u001b[0m\u001b[0m\n",
            "\u001b[0;31mNameError\u001b[0m: name 'DecayLR' is not defined"
          ]
        }
      ]
    },
    {
      "cell_type": "code",
      "metadata": {
        "id": "T9taNCjjywNM"
      },
      "source": [
        "def save_params(epoch, dir_path, model_list, model_name_list):\n",
        "    for model, model_name in zip(model, model_name_list):\n",
        "        file_path = dir_path + '/{model}_{epoch}.pth'.format(model = model_name, epoch = epoch)\n",
        "        torch.save(model.state_dict(), file_path)"
      ],
      "execution_count": null,
      "outputs": []
    },
    {
      "cell_type": "code",
      "metadata": {
        "colab": {
          "base_uri": "https://localhost:8080/",
          "height": 236
        },
        "id": "7U-dhIDbz-VQ",
        "outputId": "75b71577-6abf-4b83-c935-f0d11ab606b0"
      },
      "source": [
        "fake_A_Buffer = ReplayBuffer()\n",
        "fake_B_Buffer = ReplayBuffer()\n",
        "\n",
        "for epoch in range(0, CFG.n_epoch):\n",
        "    running_loss_D = 0.0\n",
        "    running_loss_G = 0.0\n",
        "    running_loss_G_GAN = 0.0\n",
        "    running_loss_G_cycle = 0.0\n",
        "    running_loss_G_identity = 0.0\n",
        "    for data in tqdm.tqdm(dataloader):\n",
        "        real_img_A = data['A'].to(device)\n",
        "        real_img_B = data['B'].to(device)\n",
        "        batch_size = real_img_A.size()[0]\n",
        "        real_label = torch.ones([batch_size, 1]).to(device)\n",
        "        fake_label = torch.zeros([batch_size, 1]).to(device)\n",
        "\n",
        "        loss_GAN_A2B = adversarial_loss(output_B, real_label)\n",
        "        loss_GAN_B2A = adversarial_loss(output_A, real_label)\n",
        "\n",
        "        cycle_img_A = netG_B2A(fake_img_B)\n",
        "        cycle_img_B = netG_A2B(fake_img_A)\n",
        "\n",
        "        loss_cycle_ABA = cycle_loss(cycle_img_A, real_img_A)\n",
        "        loss_cycle_BAB = cycle_loss(cycle_img_B, real_img_B)\n",
        "\n",
        "        identity_img_A = netG_B2A(real_img_A)\n",
        "        identity_img_B = netG_A2B(real_img_B)\n",
        "        loss_identity_A = identity_loss(identity_img_A, real_img_A)\n",
        "        loss_identity_B = identity_loss(identity_img_B, real_img_B)\n",
        "\n",
        "        lossG = (loss_GAN_A2B + loss_GAN_B2A \n",
        "                 + CFG.weight_identity*(loss_identity_A + loss_identity_B) \n",
        "                 + CFG.weight_cycle * (loss_cycle_ABA + loss_cycle_BAB))\n",
        "        lossG.backward()\n",
        "        optimizer_G.step()\n",
        "\n",
        "        optimizer_D_A.zero_grad()\n",
        "        optimizer_D_B.zero_grad()\n",
        "\n",
        "        real_output_A = netD_A(real_img_A)\n",
        "        real_output_B = netD_B(real_img_B)\n",
        "        loss_DA_real = adversarial_loss(real_output_A, real_label)\n",
        "        loss_DB_real = adversarial_loss(real_output_B, real_label)\n",
        "\n",
        "        fake_img_A = fake_A_buffer.push_and_pop(fake_img_A)\n",
        "        fake_img_B = fake_B_buffer.push_and_pop(fake_img_B)\n",
        "        fake_output_A = netD_A(fake_img_A.detach())\n",
        "        fake_output_B = netD_B(fake_img_B.detach())\n",
        "\n",
        "        loss_DA_fake = adversarial_loss(fake_output_A, fake_label)\n",
        "        loss_DB_fake = adversarial_loss(fake_output_B, fake_label)\n",
        "\n",
        "        loss_DA = (loss_DA_real + loss_DA_fake)*0.5\n",
        "        loss_DB = (loss_DB_real + loss_DB_fake)*0.5\n",
        "\n",
        "        loss_DA.backward()\n",
        "        loss_DB.backward()\n",
        "        optimizer_D_A.step()\n",
        "        optimizer_D_B.step()\n",
        "\n",
        "        running_loss_D += (loss_DA.item() + loss_DB.item()) / 2.0\n",
        "        running_loss_G += lossG.item()\n",
        "        running_loss_G_GAN += (loss_GAN_A2B.item() + loss_GAN_B2A.item()) / 2.0\n",
        "        running_loss_G_cycle += (loss_cycle_ABA.item() + loss__BAB.item()) / 2.0\n",
        "        running_loss_G_identity += (loss_identity_A.item() + loss_identity_B.item()) / 2.0\n",
        "\n",
        "    lr_schedular_G.step()\n",
        "    lr_schedular_D_A.step()\n",
        "    lr_schedular_D_B.step()\n",
        "    running_loss_D /= len(dataloader)\n",
        "    running_loss_G /= len(dataloader)\n",
        "    running_loss_G_GAN /= len(dataloader)\n",
        "    running_loss_G_cycle /= len(dataloader)\n",
        "    running_loss_G_identity /= len(dataloader)\n",
        "    loss_log = \"epoch: {}, Loss D:\"\n",
        "\n",
        "\n"
      ],
      "execution_count": 5,
      "outputs": [
        {
          "output_type": "error",
          "ename": "NameError",
          "evalue": "ignored",
          "traceback": [
            "\u001b[0;31m---------------------------------------------------------------------------\u001b[0m",
            "\u001b[0;31mNameError\u001b[0m                                 Traceback (most recent call last)",
            "\u001b[0;32m<ipython-input-5-9ec3ccd807bc>\u001b[0m in \u001b[0;36m<module>\u001b[0;34m()\u001b[0m\n\u001b[0;32m----> 1\u001b[0;31m \u001b[0mfake_A_Buffer\u001b[0m \u001b[0;34m=\u001b[0m \u001b[0mReplayBuffer\u001b[0m\u001b[0;34m(\u001b[0m\u001b[0;34m)\u001b[0m\u001b[0;34m\u001b[0m\u001b[0;34m\u001b[0m\u001b[0m\n\u001b[0m\u001b[1;32m      2\u001b[0m \u001b[0mfake_B_Buffer\u001b[0m \u001b[0;34m=\u001b[0m \u001b[0mReplayBuffer\u001b[0m\u001b[0;34m(\u001b[0m\u001b[0;34m)\u001b[0m\u001b[0;34m\u001b[0m\u001b[0;34m\u001b[0m\u001b[0m\n\u001b[1;32m      3\u001b[0m \u001b[0;34m\u001b[0m\u001b[0m\n\u001b[1;32m      4\u001b[0m \u001b[0;32mfor\u001b[0m \u001b[0mepoch\u001b[0m \u001b[0;32min\u001b[0m \u001b[0mrange\u001b[0m\u001b[0;34m(\u001b[0m\u001b[0;36m0\u001b[0m\u001b[0;34m,\u001b[0m \u001b[0mCFG\u001b[0m\u001b[0;34m.\u001b[0m\u001b[0mn_epoch\u001b[0m\u001b[0;34m)\u001b[0m\u001b[0;34m:\u001b[0m\u001b[0;34m\u001b[0m\u001b[0;34m\u001b[0m\u001b[0m\n\u001b[1;32m      5\u001b[0m     \u001b[0mrunning_loss_D\u001b[0m \u001b[0;34m=\u001b[0m \u001b[0;36m0.0\u001b[0m\u001b[0;34m\u001b[0m\u001b[0;34m\u001b[0m\u001b[0m\n",
            "\u001b[0;31mNameError\u001b[0m: name 'ReplayBuffer' is not defined"
          ]
        }
      ]
    },
    {
      "cell_type": "code",
      "metadata": {
        "id": "MGSF-zeRjzTG"
      },
      "source": [
        "def train_one_step(real_imgs, noise, labels_valid, labels_fake):\n",
        "    \"\"\"Train Discriminator\"\"\"\n",
        "    optimizer_D.zero_grad()\n",
        "    gen_imgs = generator(noise)\n",
        "    out_real = discriminator(real_imgs)\n",
        "    out_fake = discriminator(gen_imgs.detach())\n",
        "    real_loss = criterion(out_real, labels_valid)\n",
        "    fake_loss = criterion(out_fake, labels_fake)\n",
        "    d_loss = real_loss + fake_loss\n",
        "    d_loss.backward()\n",
        "    optimizer_D.step()\n",
        "\n",
        "    \"\"\"Train Generator\"\"\"\n",
        "    optimizer_G.zero_grad()\n",
        "    # Loss measures generator's ability to fool the discriminator\n",
        "    g_loss = criterion(discriminator(gen_imgs), labels_valid)\n",
        "    g_loss.backward()\n",
        "    optimizer_G.step()\n",
        "\n",
        "    return gen_imgs, g_loss, d_loss"
      ],
      "execution_count": null,
      "outputs": []
    },
    {
      "cell_type": "code",
      "metadata": {
        "id": "fvRW5ozdj5XO"
      },
      "source": [
        "lossesD = []\n",
        "lossesG = []\n",
        "raw_lossesD = []\n",
        "raw_lossesG = []\n",
        "for epoch in range(CFG.n_epoch):\n",
        "    running_lossD = 0.0\n",
        "    running_lossG = 0.0\n",
        "    for i, (real_imgs, labels) in enumerate(tqdm.tqdm(dataloader, position = 0)):\n",
        "        batch_size = real_imgs.size()[0]\n",
        "        shape = (batch_size, 1, 1, 1)\n",
        "        real_imgs = real_imgs.to(device)\n",
        "        noise = torch.randn(batch_size, CFG.z_dim, 1, 1).to(device)\n",
        "        labels_real = torch.ones(shape).to(device)\n",
        "        labels_fake = torch.zeros(shape).to(device)\n",
        "\n",
        "        fake_imgs, lossG, lossD = train_one_step(real_imgs, noise, labels_real, labels_fake)\n",
        "\n",
        "        running_lossD += lossD.item()\n",
        "        running_lossG += lossG.item()\n",
        "        raw_lossesD.append(lossD.item())\n",
        "    running_lossD /= len(dataloader)\n",
        "    running_lossG /= len(dataloader)\n",
        "    print('epoch: {}, lossD: {}, lossG: {}'.format(epoch, running_lossD, running_lossG))\n",
        "    lossesD.append(running_lossD)\n",
        "    lossesG.append(running_lossG)\n",
        "\n",
        "    # show fake imgs\n",
        "    grid_imgs = vutils.make_grid(fake_imgs[:24].detach())\n",
        "    grid_imgs_arr = grid_imgs.cpu().numpy()\n",
        "    plt.imshow(np.transpose(grid_imgs_arr, (1,2,0)))\n",
        "    plt.show()\n",
        "\n",
        "    # save imgs and parameters\n",
        "    vutils.save_image(fake_imgs, f_path_result + '/{}.jpg'.format(epoch))\n",
        "    save_params(f_path_params, epoch, discriminator, generator)"
      ],
      "execution_count": null,
      "outputs": []
    }
  ]
}