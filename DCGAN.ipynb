{
  "nbformat": 4,
  "nbformat_minor": 0,
  "metadata": {
    "colab": {
      "name": "DCGAN.ipynb",
      "provenance": [],
      "machine_shape": "hm",
      "authorship_tag": "ABX9TyMn3FNmEhf1UfLlcX7v58F/",
      "include_colab_link": true
    },
    "kernelspec": {
      "name": "python3",
      "display_name": "Python 3"
    },
    "language_info": {
      "name": "python"
    },
    "accelerator": "GPU"
  },
  "cells": [
    {
      "cell_type": "markdown",
      "metadata": {
        "id": "view-in-github",
        "colab_type": "text"
      },
      "source": [
        "<a href=\"https://colab.research.google.com/github/yseeker/pytorch-gan/blob/main/DCGAN.ipynb\" target=\"_parent\"><img src=\"https://colab.research.google.com/assets/colab-badge.svg\" alt=\"Open In Colab\"/></a>"
      ]
    },
    {
      "cell_type": "code",
      "metadata": {
        "colab": {
          "base_uri": "https://localhost:8080/"
        },
        "id": "xXQdkGi2jj6B",
        "outputId": "7854e5b7-19bb-46d8-db86-296d838cbca2"
      },
      "source": [
        "!pip install gwpy --quiet\n",
        "\n",
        "import os\n",
        "import matplotlib.pyplot as plt\n",
        "import numpy as np\n",
        "import tqdm\n",
        "\n",
        "import torch\n",
        "import torch.nn as nn\n",
        "import torch.optim as optim\n",
        "import torchvision.datasets as dset\n",
        "import torchvision.transforms as transforms\n",
        "from torch.utils.data import DataLoader\n",
        "import torchvision.utils as vutils\n",
        "\n",
        "class CFG:\n",
        "    n_epoch = 2000\n",
        "    batch_size = 64\n",
        "    lr = 2e-4\n",
        "    nch_g = 128\n",
        "    nch_d = 128\n",
        "    z_dim = 100\n",
        "    beta1 = 0.5"
      ],
      "execution_count": 1,
      "outputs": [
        {
          "output_type": "stream",
          "text": [
            "\u001b[K     |████████████████████████████████| 1.4MB 12.1MB/s \n",
            "\u001b[K     |████████████████████████████████| 10.3MB 39.7MB/s \n",
            "\u001b[K     |████████████████████████████████| 61kB 8.8MB/s \n",
            "\u001b[K     |████████████████████████████████| 61kB 7.6MB/s \n",
            "\u001b[K     |████████████████████████████████| 3.2MB 62.8MB/s \n",
            "\u001b[?25h  Building wheel for ligo-segments (setup.py) ... \u001b[?25l\u001b[?25hdone\n",
            "\u001b[31mERROR: albumentations 0.1.12 has requirement imgaug<0.2.7,>=0.2.5, but you'll have imgaug 0.2.9 which is incompatible.\u001b[0m\n"
          ],
          "name": "stdout"
        }
      ]
    },
    {
      "cell_type": "code",
      "metadata": {
        "id": "85-wg9BVjrHO"
      },
      "source": [
        "%%capture\n",
        "\n",
        "transform = transforms.Compose([\n",
        "    transforms.Resize((28, 28)),\n",
        "    transforms.ToTensor(),\n",
        "    transforms.Normalize((0.5,), (0.5, ))\n",
        "])\n",
        "dataset = dset.MNIST('./drive/MyDrive/data/', download = True, train = True, transform = transform)\n",
        "dataloader = DataLoader(dataset = dataset, batch_size=CFG.batch_size, shuffle=True)"
      ],
      "execution_count": null,
      "outputs": []
    },
    {
      "cell_type": "code",
      "metadata": {
        "id": "p_fZKgxIlR7B"
      },
      "source": [
        "def weights_init(m):\n",
        "    classname = m.__class__.__name__\n",
        "    if classname.find('Conv') != -1:\n",
        "        nn.init.normal_(m.weight.data, 0.0, 0.02)\n",
        "    elif classname.find('BatchNorm') != -1:\n",
        "        nn.init.normal_(m.weight.data, 1.0, 0.02)\n",
        "        nn.init.constant_(m.bias.data, 0)\n",
        "\n",
        "def save_params(file_path, epoch, netD, netG):\n",
        "    torch.save(\n",
        "        netG.state_dict(),\n",
        "        file_path + '/g_{:04d}.pth'.format(epoch)\n",
        "    )\n",
        "    torch.save(\n",
        "        netD.state_dict(),\n",
        "        file_path + '/g_{:04d}.pth'.format(epoch)\n",
        "    )"
      ],
      "execution_count": null,
      "outputs": []
    },
    {
      "cell_type": "code",
      "metadata": {
        "id": "XeOXIVcfj3As"
      },
      "source": [
        "class Generator(nn.Module):\n",
        "    def __init__(self, z_dim = 100, ngf = 128, nc = 1):\n",
        "        super().__init__()\n",
        "        self.convt1 = self.conv_trans_layers(z_dim, 4*ngf, 3, 1, 0)\n",
        "        self.convt2 = self.conv_trans_layers(4*ngf, 2*ngf, 3, 2, 0)\n",
        "        self.convt3 = self.conv_trans_layers(2*ngf, ngf, 4, 2, 1)\n",
        "        self.convt4 = nn.Sequential(\n",
        "            nn.ConvTranspose2d(ngf, nc, 4, 2, 1),\n",
        "            nn.Tanh()\n",
        "        )\n",
        "\n",
        "    @staticmethod\n",
        "    def conv_trans_layers(in_channels, out_channels, kernel_size, stride, padding):\n",
        "        net = nn.Sequential(\n",
        "            nn.ConvTranspose2d(in_channels, out_channels, kernel_size,stride,padding, bias = False),\n",
        "            nn.BatchNorm2d(out_channels),\n",
        "            nn.ReLU(inplace=True)\n",
        "        )\n",
        "        return net\n",
        "\n",
        "    def forward(self, x):\n",
        "        out = self.convt1(x)\n",
        "        out = self.convt2(out)\n",
        "        out = self.convt3(out)\n",
        "        out = self.convt4(out)\n",
        "        return out\n",
        "\n",
        "class Discrimnator(nn.Module):\n",
        "    def __init__(self, nc = 1, ndf = 128):\n",
        "        super().__init__()\n",
        "        self.conv1 = self.conv_layers(nc, ndf, has_batch_norm = False)\n",
        "        self.conv2 = self.conv_layers(ndf, 2*ndf)\n",
        "        self.conv3 = self.conv_layers(2*ndf, 4*ndf, 3, 2, 0)\n",
        "        self.conv4 = nn.Sequential(\n",
        "            nn.Conv2d(4*ndf, 1, 3, 1, 0),\n",
        "            nn.Sigmoid()\n",
        "        )\n",
        "    \n",
        "    @staticmethod\n",
        "    def conv_layers(in_channels, out_channels, kernel_size = 4, stride = 2, padding = 1,\n",
        "                     has_batch_norm = True):\n",
        "        layers = [\n",
        "                  nn.Conv2d(in_channels, out_channels, kernel_size, stride, padding, bias=False)\n",
        "        ]\n",
        "        if has_batch_norm:\n",
        "            layers.append(nn.BatchNorm2d(out_channels))\n",
        "        layers.append(nn.LeakyReLU(0.2, inplace = True))\n",
        "        net = nn.Sequential(*layers)\n",
        "        return net\n",
        "\n",
        "    def forward(self, x):\n",
        "        out = self.conv1(x)\n",
        "        out = self.conv2(out)\n",
        "        out = self.conv3(out)\n",
        "        out = self.conv4(out)\n",
        "        return out"
      ],
      "execution_count": null,
      "outputs": []
    },
    {
      "cell_type": "code",
      "metadata": {
        "id": "ibS77sXWkp_H"
      },
      "source": [
        "device = torch.device('cuda' if torch.cuda.is_available() else 'cpu')\n",
        "\n",
        "generator = Generator(z_dim = CFG.z_dim, ngf = CFG.nch_g).to(device)\n",
        "generator.apply(weights_init)\n",
        "\n",
        "discriminator = Discrimnator(nc = 1, ndf = CFG.nch_d).to(device)\n",
        "discriminator.apply(weights_init)\n",
        "\n",
        "criterion = nn.BCELoss()\n",
        "optimizer_G = optim.Adam(generator.parameters(), lr = CFG.lr, betas=(CFG.beta1, 0.999), weight_decay = 1e-5)\n",
        "optimizer_D = optim.Adam(discriminator.parameters(), lr = CFG.lr, betas=(CFG.beta1, 0.999), weight_decay = 1e-5)\n",
        "\n",
        "model_name = 'DCGGAN'\n",
        "f_path_result = './drive/MyDrive/result/{}'.format(model_name)\n",
        "f_path_params = './drive/MyDrive/result/{}'.format(model_name)\n",
        "\n",
        "os.makedirs(f_path_result, exist_ok = True)\n",
        "os.makedirs(f_path_params, exist_ok = True)"
      ],
      "execution_count": null,
      "outputs": []
    },
    {
      "cell_type": "code",
      "metadata": {
        "id": "7oIygefVqpHi"
      },
      "source": [
        "def train_one_step(real_imgs, noise, labels_valid, labels_fake):\n",
        "    \"\"\"Train Discriminator\"\"\"\n",
        "    optimizer_D.zero_grad()\n",
        "    gen_imgs = generator(noise)\n",
        "    out_real = discriminator(real_imgs)\n",
        "    out_fake = discriminator(gen_imgs.detach())\n",
        "    real_loss = criterion(out_real, labels_valid)\n",
        "    fake_loss = criterion(out_fake, labels_fake)\n",
        "    d_loss = real_loss + fake_loss\n",
        "    d_loss.backward()\n",
        "    optimizer_D.step()\n",
        "\n",
        "    \"\"\"Train Generator\"\"\"\n",
        "    optimizer_G.zero_grad()\n",
        "    # Loss measures generator's ability to fool the discriminator\n",
        "    g_loss = criterion(discriminator(gen_imgs), labels_valid)\n",
        "    g_loss.backward()\n",
        "    optimizer_G.step()\n",
        "\n",
        "    return g_loss, d_loss"
      ],
      "execution_count": null,
      "outputs": []
    },
    {
      "cell_type": "code",
      "metadata": {
        "id": "Adjjz0vXlBAC"
      },
      "source": [
        "lossesD = []\n",
        "lossesG = []\n",
        "raw_lossesD = []\n",
        "raw_lossesG = []\n",
        "for epoch in range(CFG.n_epoch):\n",
        "    running_lossD = 0.0\n",
        "    running_lossG = 0.0\n",
        "    for i, (real_imgs, labels) in enumerate(tqdm.tqdm(dataloader, position = 0)):\n",
        "        batch_size = real_imgs.size()[0]\n",
        "        shape = (batch_size, 1, 1, 1)\n",
        "        real_imgs = real_imgs.to(device)\n",
        "        labels_real = torch.ones(shape).to(device)\n",
        "        labels_fake = torch.zeros(shape).to(device)\n",
        "        \n",
        "        noise = torch.randn(batch_size, CFG.z_dim, 1, 1).to(device)\n",
        "        \n",
        "        lossG, lossD = train_one_step(real_imgs, noise, labels_real, labels_fake)\n",
        "\n",
        "        running_lossD += lossD.item()\n",
        "        running_lossG += lossG.item()\n",
        "        raw_lossesD.append(lossD.item())\n",
        "    running_lossD /= len(dataloader)\n",
        "    running_lossG /= len(dataloader)\n",
        "    print('epoch: {}, lossD: {}, lossG: {}'.format(epoch, running_lossD, running_lossG))\n",
        "    lossesD.append(running_lossD)\n",
        "    lossesG.append(running_lossG)\n",
        "\n",
        "    # show fake imgs\n",
        "    grid_imgs = vutils.make_grid(fake_imgs[:24].detach())\n",
        "    grid_imgs_arr = grid_imgs.cpu().numpy()\n",
        "    plt.imshow(np.transpose(grid_imgs_arr, (1,2,0)))\n",
        "    plt.show()\n",
        "\n",
        "    # save imgs and parameters\n",
        "    vutils.save_image(fake_imgs, f_path_result + '/{}.jpg'.format(epoch))\n",
        "    save_params(f_path_params, epoch, netD, netG)"
      ],
      "execution_count": null,
      "outputs": []
    },
    {
      "cell_type": "code",
      "metadata": {
        "id": "glod3lW8l0Dk"
      },
      "source": [
        ""
      ],
      "execution_count": null,
      "outputs": []
    }
  ]
}