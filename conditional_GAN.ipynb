{
  "nbformat": 4,
  "nbformat_minor": 0,
  "metadata": {
    "colab": {
      "name": "conditional_GAN.ipynb",
      "provenance": [],
      "machine_shape": "hm",
      "authorship_tag": "ABX9TyPZMTfYkU5s2o7Vd0qMrXtr",
      "include_colab_link": true
    },
    "kernelspec": {
      "name": "python3",
      "display_name": "Python 3"
    },
    "language_info": {
      "name": "python"
    },
    "accelerator": "GPU"
  },
  "cells": [
    {
      "cell_type": "markdown",
      "metadata": {
        "id": "view-in-github",
        "colab_type": "text"
      },
      "source": [
        "<a href=\"https://colab.research.google.com/github/yseeker/pytorch-gan/blob/main/conditional_GAN.ipynb\" target=\"_parent\"><img src=\"https://colab.research.google.com/assets/colab-badge.svg\" alt=\"Open In Colab\"/></a>"
      ]
    },
    {
      "cell_type": "code",
      "metadata": {
        "colab": {
          "base_uri": "https://localhost:8080/"
        },
        "id": "xXQdkGi2jj6B",
        "outputId": "86b9c5bf-6027-4d21-b259-77d9e1783304"
      },
      "source": [
        "!pip install gwpy --quiet\n",
        "\n",
        "import os\n",
        "import matplotlib.pyplot as plt\n",
        "import numpy as np\n",
        "import tqdm\n",
        "\n",
        "import torch\n",
        "import torch.nn as nn\n",
        "import torch.optim as optim\n",
        "import torchvision.datasets as dset\n",
        "import torchvision.transforms as transforms\n",
        "from torch.utils.data import DataLoader\n",
        "import torchvision.utils as vutils\n",
        "\n",
        "class CFG:\n",
        "    n_epoch = 10\n",
        "    batch_size = 64\n",
        "    lr = 2e-4\n",
        "    nch_g = 128\n",
        "    nch_d = 128\n",
        "    z_dim = 100\n",
        "    beta1 = 0.5"
      ],
      "execution_count": null,
      "outputs": [
        {
          "output_type": "stream",
          "text": [
            "\u001b[K     |████████████████████████████████| 1.4MB 4.2MB/s \n",
            "\u001b[K     |████████████████████████████████| 61kB 9.6MB/s \n",
            "\u001b[K     |████████████████████████████████| 10.3MB 34.9MB/s \n",
            "\u001b[K     |████████████████████████████████| 61kB 10.2MB/s \n",
            "\u001b[K     |████████████████████████████████| 3.2MB 48.3MB/s \n",
            "\u001b[?25h  Building wheel for ligo-segments (setup.py) ... \u001b[?25l\u001b[?25hdone\n",
            "\u001b[31mERROR: albumentations 0.1.12 has requirement imgaug<0.2.7,>=0.2.5, but you'll have imgaug 0.2.9 which is incompatible.\u001b[0m\n"
          ],
          "name": "stdout"
        }
      ]
    },
    {
      "cell_type": "code",
      "metadata": {
        "id": "85-wg9BVjrHO"
      },
      "source": [
        "%%capture\n",
        "\n",
        "transform = transforms.Compose([\n",
        "    transforms.Resize((28, 28)),\n",
        "    transforms.ToTensor(),\n",
        "    transforms.Normalize((0.5,), (0.5, ))\n",
        "])\n",
        "dataset = dset.MNIST('./drive/MyDrive/data/', download = True, train = True, transform = transform)\n",
        "dataloader = DataLoader(dataset = dataset, batch_size=CFG.batch_size, shuffle=True)"
      ],
      "execution_count": null,
      "outputs": []
    },
    {
      "cell_type": "code",
      "metadata": {
        "id": "p_fZKgxIlR7B"
      },
      "source": [
        "def weights_init(m):\n",
        "    classname = m.__class__.__name__\n",
        "    if classname.find('Conv') != -1:\n",
        "        nn.init.normal_(m.weight.data, 0.0, 0.02)\n",
        "    elif classname.find('BatchNorm') != -1:\n",
        "        nn.init.normal_(m.weight.data, 1.0, 0.02)\n",
        "        nn.init.constant_(m.bias.data, 0)\n",
        "\n",
        "def save_params(file_path, epoch, netD, netG):\n",
        "    torch.save(\n",
        "        netG.state_dict(),\n",
        "        file_path + '/g_{:04d}.pth'.format(epoch)\n",
        "    )\n",
        "    torch.save(\n",
        "        netD.state_dict(),\n",
        "        file_path + '/g_{:04d}.pth'.format(epoch)\n",
        "    )\n",
        "\n",
        "def get_noise_with_label(noise, labels, device, n_class = 10):\n",
        "    one_hot_vec = torch.nn.functional.one_hot(labels, num_classes=n_class).view(-1, n_class, 1, 1).to(device)\n",
        "    concat_noise = torch.cat((noise, one_hot_vec), dim = 1)\n",
        "    return concat_noise\n",
        "\n",
        "def get_img_with_label(imgs, labels, device, n_class = 10):\n",
        "    B, _, H, W = imgs.size()\n",
        "    one_hot_vec = torch.nn.functional.one_hot(labels, num_classes= n_class).view(-1, n_class, 1, 1)\n",
        "    one_hot_vec = one_hot_vec.expand(B, n_class, H, W).to(device)\n",
        "    concat_img = torch.cat((imgs, one_hot_vec), dim = 1)\n",
        "    return concat_img"
      ],
      "execution_count": null,
      "outputs": []
    },
    {
      "cell_type": "code",
      "metadata": {
        "id": "XeOXIVcfj3As"
      },
      "source": [
        "class Generator(nn.Module):\n",
        "    def __init__(self, z_dim = 100+10, ngf = 128, nc = 1):\n",
        "        super().__init__()\n",
        "        self.convt1 = self.conv_trans_layers(z_dim, 4*ngf, 3, 1, 0)\n",
        "        self.convt2 = self.conv_trans_layers(4*ngf, 2*ngf, 3, 2, 0)\n",
        "        self.convt3 = self.conv_trans_layers(2*ngf, ngf, 4, 2, 1)\n",
        "        self.convt4 = nn.Sequential(\n",
        "            nn.ConvTranspose2d(ngf, nc, 4, 2, 1),\n",
        "            nn.Tanh()\n",
        "        )\n",
        "\n",
        "    @staticmethod\n",
        "    def conv_trans_layers(in_channels, out_channels, kernel_size, stride, padding):\n",
        "        net = nn.Sequential(\n",
        "            nn.ConvTranspose2d(in_channels, out_channels, kernel_size,stride,padding, bias = False),\n",
        "            nn.BatchNorm2d(out_channels),\n",
        "            nn.ReLU(inplace=True)\n",
        "        )\n",
        "        return net\n",
        "\n",
        "    def forward(self, x):\n",
        "        out = self.convt1(x)\n",
        "        out = self.convt2(out)\n",
        "        out = self.convt3(out)\n",
        "        out = self.convt4(out)\n",
        "        return out\n",
        "\n",
        "class Discrimnator(nn.Module):\n",
        "    def __init__(self, nc = 1+10, ndf = 128):\n",
        "        super().__init__()\n",
        "        self.conv1 = self.conv_layers(nc, ndf, has_batch_norm = False)\n",
        "        self.conv2 = self.conv_layers(ndf, 2*ndf)\n",
        "        self.conv3 = self.conv_layers(2*ndf, 4*ndf, 3, 2, 0)\n",
        "        self.conv4 = nn.Sequential(\n",
        "            nn.Conv2d(4*ndf, 1, 3, 1, 0),\n",
        "            nn.Sigmoid()\n",
        "        )\n",
        "    \n",
        "    @staticmethod\n",
        "    def conv_layers(in_channels, out_channels, kernel_size = 4, stride = 2, padding = 1,\n",
        "                     has_batch_norm = True):\n",
        "        layers = [\n",
        "                  nn.Conv2d(in_channels, out_channels, kernel_size, stride, padding, bias=False)\n",
        "        ]\n",
        "        if has_batch_norm:\n",
        "            layers.append(nn.BatchNorm2d(out_channels))\n",
        "        layers.append(nn.LeakyReLU(0.2, inplace = True))\n",
        "        net = nn.Sequential(*layers)\n",
        "        return net\n",
        "\n",
        "    def forward(self, x):\n",
        "        out = self.conv1(x)\n",
        "        out = self.conv2(out)\n",
        "        out = self.conv3(out)\n",
        "        out = self.conv4(out)\n",
        "        return out"
      ],
      "execution_count": null,
      "outputs": []
    },
    {
      "cell_type": "code",
      "metadata": {
        "id": "ibS77sXWkp_H"
      },
      "source": [
        "device = torch.device('cuda' if torch.cuda.is_available() else 'cpu')\n",
        "\n",
        "generator = Generator(z_dim = CFG.z_dim + 10, ngf = CFG.nch_g).to(device)\n",
        "generator.apply(weights_init)\n",
        "\n",
        "discriminator = Discrimnator(nc = 1 + 10, ndf = CFG.nch_d).to(device)\n",
        "discriminator.apply(weights_init)\n",
        "\n",
        "criterion = nn.BCELoss()\n",
        "optimizer_G = optim.Adam(generator.parameters(), lr = CFG.lr, betas=(CFG.beta1, 0.999), weight_decay = 1e-5)\n",
        "optimizer_D = optim.Adam(discriminator.parameters(), lr = CFG.lr, betas=(CFG.beta1, 0.999), weight_decay = 1e-5)\n",
        "\n",
        "model_name = 'CGAN'\n",
        "f_path_result = './drive/MyDrive/result/{}'.format(model_name)\n",
        "f_path_params = './drive/MyDrive/result/{}'.format(model_name)\n",
        "\n",
        "os.makedirs(f_path_result, exist_ok = True)\n",
        "os.makedirs(f_path_params, exist_ok = True)"
      ],
      "execution_count": null,
      "outputs": []
    },
    {
      "cell_type": "code",
      "metadata": {
        "id": "7oIygefVqpHi"
      },
      "source": [
        "def train_one_step(real_imgs_with_label, noise_with_label, labels_valid, labels_fake, labels):\n",
        "    \"\"\"Train Discriminator\"\"\"\n",
        "    optimizer_D.zero_grad()\n",
        "    out_real = discriminator(real_imgs_with_label)\n",
        "    out_fake = generator(noise_with_label)\n",
        "    out_fake_with_label = get_img_with_label(out_fake, labels, device)\n",
        "    output = discriminator(out_fake_with_label.detach())\n",
        "    real_loss = criterion(output, labels_valid)\n",
        "    fake_loss = criterion(output, labels_fake)\n",
        "    d_loss = lossD_real + lossD_fake\n",
        "    d_loss.backward()\n",
        "    optimizer_D.step()\n",
        "\n",
        "    \"\"\"Train Generator\"\"\"\n",
        "    optimizer_G.zero_grad()\n",
        "    output = discriminator(out_fake_with_label)\n",
        "    g_loss = criterion(output, labels_valid)\n",
        "    g_loss.backward()\n",
        "    optimizer_G.step()\n",
        "\n",
        "    return out_fake, g_loss, d_loss"
      ],
      "execution_count": null,
      "outputs": []
    },
    {
      "cell_type": "code",
      "metadata": {
        "id": "Adjjz0vXlBAC",
        "colab": {
          "base_uri": "https://localhost:8080/",
          "height": 413
        },
        "outputId": "ea0fe0ff-4586-4191-c008-da37e7cd44b6"
      },
      "source": [
        "lossesD = []\n",
        "lossesG = []\n",
        "raw_lossesD = []\n",
        "raw_lossesG = []\n",
        "for epoch in range(CFG.n_epoch):\n",
        "    running_lossD = 0.0\n",
        "    running_lossG = 0.0\n",
        "    for i, (real_imgs, labels) in enumerate(tqdm.tqdm(dataloader, position = 0)):\n",
        "        # batch_size = real_imgs.size()[0]\n",
        "        # shape = (batch_size, 1, 1, 1)\n",
        "        # labels_real = torch.ones(shape).to(device)\n",
        "        # labels_fake = torch.zeros(shape).to(device)\n",
        "\n",
        "        # real_imgs = real_imgs.to(device)\n",
        "        # real_imgs_with_label = get_img_with_label(real_imgs, labels, device)\n",
        "\n",
        "        # noise = torch.randn(batch_size, CFG.z_dim, 1, 1).to(device)\n",
        "        # noise_with_label = get_noise_with_label(noise, labels, device)\n",
        "        # print(noise_with_label.shape, real_imgs_with_label.shape)\n",
        "        \n",
        "        # lossG, lossD = train_one_step(real_imgs_with_label, noise_with_label, labels_real, labels_fake)\n",
        "\n",
        "        # running_lossD += lossD.item()\n",
        "        # running_lossG += lossG.item()\n",
        "        # raw_lossesD.append(lossD.item())        \n",
        "        real_imgs = real_imgs.to(device)\n",
        "        real_imgs_with_label = get_img_with_label(real_imgs, labels, device)\n",
        "        batch_size = real_imgs.size()[0]\n",
        "        noise = torch.randn(batch_size, CFG.z_dim, 1, 1).to(device)\n",
        "        noise_with_label = get_noise_with_label(noise, labels, device)\n",
        "\n",
        "        shape = (batch_size, 1, 1, 1)\n",
        "        labels_real = torch.ones(shape).to(device)\n",
        "        labels_fake = torch.zeros(shape).to(device)\n",
        "\n",
        "        fake_imgs, lossG, lossD = train_one_step(real_imgs_with_label, noise_with_label, labels_real, labels_fake, labels)\n",
        "\n",
        "        \"\"\"train Discriminator\"\"\"\n",
        "        # optimizer_D.zero_grad()\n",
        "        # output = discriminator(real_imgs_with_label)\n",
        "        # lossD_real = criterion(output, labels_real)\n",
        "\n",
        "        # fake_imgs = generator(noise_with_label)\n",
        "        # fake_imgs_with_label = get_img_with_label(fake_imgs, labels, device)\n",
        "        # output = discriminator(fake_imgs_with_label.detach())\n",
        "        # lossD_fake = criterion(output, labels_fake)\n",
        "\n",
        "        # lossD = lossD_real + lossD_fake\n",
        "        # lossD.backward()\n",
        "        # optimizer_D.step()\n",
        "\n",
        "        # optimizer_G.zero_grad()\n",
        "        # output = discriminator(fake_imgs_with_label)\n",
        "        # lossG = criterion(output, labels_real)\n",
        "        # lossG.backward()\n",
        "        # optimizer_G.step()\n",
        "\n",
        "        running_lossD += lossD.item()\n",
        "        running_lossG += lossG.item()\n",
        "        raw_lossesD.append(lossD.item())\n",
        "    running_lossD /= len(dataloader)\n",
        "    running_lossG /= len(dataloader)\n",
        "    print('epoch: {}, lossD: {}, lossG: {}'.format(epoch, running_lossD, running_lossG))\n",
        "    lossesD.append(running_lossD)\n",
        "    lossesG.append(running_lossG)\n",
        "\n",
        "    # show fake imgs\n",
        "    grid_imgs = vutils.make_grid(fake_imgs[:24].detach())\n",
        "    grid_imgs_arr = grid_imgs.cpu().numpy()\n",
        "    plt.imshow(np.transpose(grid_imgs_arr, (1,2,0)))\n",
        "    plt.show()\n",
        "\n",
        "    # save imgs and parameters\n",
        "    vutils.save_image(fake_imgs, f_path_result + '/{}.jpg'.format(epoch))\n",
        "    save_params(f_path_params, epoch, discriminator, generator)"
      ],
      "execution_count": null,
      "outputs": [
        {
          "output_type": "stream",
          "text": [
            "  0%|          | 0/938 [00:00<?, ?it/s]\n"
          ],
          "name": "stderr"
        },
        {
          "output_type": "error",
          "ename": "RuntimeError",
          "evalue": "ignored",
          "traceback": [
            "\u001b[0;31m---------------------------------------------------------------------------\u001b[0m",
            "\u001b[0;31mRuntimeError\u001b[0m                              Traceback (most recent call last)",
            "\u001b[0;32m<ipython-input-46-20f723a5bc26>\u001b[0m in \u001b[0;36m<module>\u001b[0;34m()\u001b[0m\n\u001b[1;32m     34\u001b[0m         \u001b[0mlabels_fake\u001b[0m \u001b[0;34m=\u001b[0m \u001b[0mtorch\u001b[0m\u001b[0;34m.\u001b[0m\u001b[0mzeros\u001b[0m\u001b[0;34m(\u001b[0m\u001b[0mshape\u001b[0m\u001b[0;34m)\u001b[0m\u001b[0;34m.\u001b[0m\u001b[0mto\u001b[0m\u001b[0;34m(\u001b[0m\u001b[0mdevice\u001b[0m\u001b[0;34m)\u001b[0m\u001b[0;34m\u001b[0m\u001b[0;34m\u001b[0m\u001b[0m\n\u001b[1;32m     35\u001b[0m \u001b[0;34m\u001b[0m\u001b[0m\n\u001b[0;32m---> 36\u001b[0;31m         \u001b[0mfake_imgs\u001b[0m\u001b[0;34m,\u001b[0m \u001b[0mlossG\u001b[0m\u001b[0;34m,\u001b[0m \u001b[0mlossD\u001b[0m \u001b[0;34m=\u001b[0m \u001b[0mtrain_one_step\u001b[0m\u001b[0;34m(\u001b[0m\u001b[0mreal_imgs_with_label\u001b[0m\u001b[0;34m,\u001b[0m \u001b[0mnoise_with_label\u001b[0m\u001b[0;34m,\u001b[0m \u001b[0mlabels_real\u001b[0m\u001b[0;34m,\u001b[0m \u001b[0mlabels_fake\u001b[0m\u001b[0;34m,\u001b[0m \u001b[0mlabels\u001b[0m\u001b[0;34m)\u001b[0m\u001b[0;34m\u001b[0m\u001b[0;34m\u001b[0m\u001b[0m\n\u001b[0m\u001b[1;32m     37\u001b[0m \u001b[0;34m\u001b[0m\u001b[0m\n\u001b[1;32m     38\u001b[0m         \u001b[0;34m\"\"\"train Discriminator\"\"\"\u001b[0m\u001b[0;34m\u001b[0m\u001b[0;34m\u001b[0m\u001b[0m\n",
            "\u001b[0;32m<ipython-input-45-73741e2ee99f>\u001b[0m in \u001b[0;36mtrain_one_step\u001b[0;34m(real_imgs_with_label, noise_with_label, labels_valid, labels_fake, labels)\u001b[0m\n\u001b[1;32m      9\u001b[0m     \u001b[0mfake_loss\u001b[0m \u001b[0;34m=\u001b[0m \u001b[0mcriterion\u001b[0m\u001b[0;34m(\u001b[0m\u001b[0moutput\u001b[0m\u001b[0;34m,\u001b[0m \u001b[0mlabels_fake\u001b[0m\u001b[0;34m)\u001b[0m\u001b[0;34m\u001b[0m\u001b[0;34m\u001b[0m\u001b[0m\n\u001b[1;32m     10\u001b[0m     \u001b[0md_loss\u001b[0m \u001b[0;34m=\u001b[0m \u001b[0mlossD_real\u001b[0m \u001b[0;34m+\u001b[0m \u001b[0mlossD_fake\u001b[0m\u001b[0;34m\u001b[0m\u001b[0;34m\u001b[0m\u001b[0m\n\u001b[0;32m---> 11\u001b[0;31m     \u001b[0md_loss\u001b[0m\u001b[0;34m.\u001b[0m\u001b[0mbackward\u001b[0m\u001b[0;34m(\u001b[0m\u001b[0;34m)\u001b[0m\u001b[0;34m\u001b[0m\u001b[0;34m\u001b[0m\u001b[0m\n\u001b[0m\u001b[1;32m     12\u001b[0m     \u001b[0moptimizer_D\u001b[0m\u001b[0;34m.\u001b[0m\u001b[0mstep\u001b[0m\u001b[0;34m(\u001b[0m\u001b[0;34m)\u001b[0m\u001b[0;34m\u001b[0m\u001b[0;34m\u001b[0m\u001b[0m\n\u001b[1;32m     13\u001b[0m \u001b[0;34m\u001b[0m\u001b[0m\n",
            "\u001b[0;32m/usr/local/lib/python3.7/dist-packages/torch/_tensor.py\u001b[0m in \u001b[0;36mbackward\u001b[0;34m(self, gradient, retain_graph, create_graph, inputs)\u001b[0m\n\u001b[1;32m    253\u001b[0m                 \u001b[0mcreate_graph\u001b[0m\u001b[0;34m=\u001b[0m\u001b[0mcreate_graph\u001b[0m\u001b[0;34m,\u001b[0m\u001b[0;34m\u001b[0m\u001b[0;34m\u001b[0m\u001b[0m\n\u001b[1;32m    254\u001b[0m                 inputs=inputs)\n\u001b[0;32m--> 255\u001b[0;31m         \u001b[0mtorch\u001b[0m\u001b[0;34m.\u001b[0m\u001b[0mautograd\u001b[0m\u001b[0;34m.\u001b[0m\u001b[0mbackward\u001b[0m\u001b[0;34m(\u001b[0m\u001b[0mself\u001b[0m\u001b[0;34m,\u001b[0m \u001b[0mgradient\u001b[0m\u001b[0;34m,\u001b[0m \u001b[0mretain_graph\u001b[0m\u001b[0;34m,\u001b[0m \u001b[0mcreate_graph\u001b[0m\u001b[0;34m,\u001b[0m \u001b[0minputs\u001b[0m\u001b[0;34m=\u001b[0m\u001b[0minputs\u001b[0m\u001b[0;34m)\u001b[0m\u001b[0;34m\u001b[0m\u001b[0;34m\u001b[0m\u001b[0m\n\u001b[0m\u001b[1;32m    256\u001b[0m \u001b[0;34m\u001b[0m\u001b[0m\n\u001b[1;32m    257\u001b[0m     \u001b[0;32mdef\u001b[0m \u001b[0mregister_hook\u001b[0m\u001b[0;34m(\u001b[0m\u001b[0mself\u001b[0m\u001b[0;34m,\u001b[0m \u001b[0mhook\u001b[0m\u001b[0;34m)\u001b[0m\u001b[0;34m:\u001b[0m\u001b[0;34m\u001b[0m\u001b[0;34m\u001b[0m\u001b[0m\n",
            "\u001b[0;32m/usr/local/lib/python3.7/dist-packages/torch/autograd/__init__.py\u001b[0m in \u001b[0;36mbackward\u001b[0;34m(tensors, grad_tensors, retain_graph, create_graph, grad_variables, inputs)\u001b[0m\n\u001b[1;32m    147\u001b[0m     Variable._execution_engine.run_backward(\n\u001b[1;32m    148\u001b[0m         \u001b[0mtensors\u001b[0m\u001b[0;34m,\u001b[0m \u001b[0mgrad_tensors_\u001b[0m\u001b[0;34m,\u001b[0m \u001b[0mretain_graph\u001b[0m\u001b[0;34m,\u001b[0m \u001b[0mcreate_graph\u001b[0m\u001b[0;34m,\u001b[0m \u001b[0minputs\u001b[0m\u001b[0;34m,\u001b[0m\u001b[0;34m\u001b[0m\u001b[0;34m\u001b[0m\u001b[0m\n\u001b[0;32m--> 149\u001b[0;31m         allow_unreachable=True, accumulate_grad=True)  # allow_unreachable flag\n\u001b[0m\u001b[1;32m    150\u001b[0m \u001b[0;34m\u001b[0m\u001b[0m\n\u001b[1;32m    151\u001b[0m \u001b[0;34m\u001b[0m\u001b[0m\n",
            "\u001b[0;31mRuntimeError\u001b[0m: Trying to backward through the graph a second time (or directly access saved variables after they have already been freed). Saved intermediate values of the graph are freed when you call .backward() or autograd.grad(). Specify retain_graph=True if you need to backward through the graph a second time or if you need to access saved variables after calling backward."
          ]
        }
      ]
    },
    {
      "cell_type": "code",
      "metadata": {
        "id": "glod3lW8l0Dk"
      },
      "source": [
        ""
      ],
      "execution_count": null,
      "outputs": []
    }
  ]
}